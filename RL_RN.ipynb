{
 "cells": [
  {
   "cell_type": "code",
   "execution_count": 383,
   "metadata": {},
   "outputs": [],
   "source": [
    "import numpy as np\n",
    "import pandas as pd \n",
    "import matplotlib.pyplot as plt\n",
    "import seaborn as sns\n",
    "import os\n",
    "import tensorflow as tf\n",
    "tf.compat.v1.disable_v2_behavior()\n",
    "import keras\n",
    "from keras.models import Sequential\n",
    "from keras.layers import Dense, Dropout\n",
    "from sklearn.preprocessing import LabelEncoder\n",
    "from sklearn.linear_model import LogisticRegression\n",
    "from sklearn.metrics import precision_recall_fscore_support as score\n",
    "import itertools\n",
    "from sklearn.metrics import accuracy_score, f1_score, precision_score, recall_score\n",
    "from sklearn.ensemble import RandomForestClassifier\n",
    "from sklearn.preprocessing import OneHotEncoder #pour le recodage des variables catégorielles  \n",
    "from sklearn.preprocessing import MinMaxScaler,StandardScaler # pour effectuer la normalisations min-max\n",
    "from sklearn.compose import make_column_transformer # Applique des transformateurs aux colonnes d'un tableau\n",
    "from sklearn.pipeline import make_pipeline\n",
    "\n",
    "\n",
    "for dirname, _, filenames in os.walk('/kaggle/input'):\n",
    "    for filename in filenames:\n",
    "        print(os.path.join(dirname, filename))"
   ]
  },
  {
   "cell_type": "code",
   "execution_count": 384,
   "metadata": {},
   "outputs": [
    {
     "data": {
      "text/html": [
       "<div>\n",
       "<style scoped>\n",
       "    .dataframe tbody tr th:only-of-type {\n",
       "        vertical-align: middle;\n",
       "    }\n",
       "\n",
       "    .dataframe tbody tr th {\n",
       "        vertical-align: top;\n",
       "    }\n",
       "\n",
       "    .dataframe thead th {\n",
       "        text-align: right;\n",
       "    }\n",
       "</style>\n",
       "<table border=\"1\" class=\"dataframe\">\n",
       "  <thead>\n",
       "    <tr style=\"text-align: right;\">\n",
       "      <th></th>\n",
       "      <th>DETT</th>\n",
       "      <th>DNAIS</th>\n",
       "      <th>AGEINC</th>\n",
       "      <th>SURFC</th>\n",
       "      <th>MUT01</th>\n",
       "      <th>MYBPC3</th>\n",
       "      <th>MYH7</th>\n",
       "      <th>TNNT2</th>\n",
       "      <th>TNNI3</th>\n",
       "      <th>GRADIENTMAXREPOSINTRAVG</th>\n",
       "      <th>...</th>\n",
       "      <th>RECOESC(4%)_0,non</th>\n",
       "      <th>RECOESC(4%)_0.non</th>\n",
       "      <th>RECOESC(4%)_1.oui</th>\n",
       "      <th>RECOESC6%_0.non</th>\n",
       "      <th>RECOESC6%_1.oui</th>\n",
       "      <th>RECOAHA_0.non</th>\n",
       "      <th>RECOAHA_1.oui</th>\n",
       "      <th>RECOAHAétendue_0.non</th>\n",
       "      <th>RECOAHAétendue_1.oui</th>\n",
       "      <th>CJP</th>\n",
       "    </tr>\n",
       "  </thead>\n",
       "  <tbody>\n",
       "    <tr>\n",
       "      <th>0</th>\n",
       "      <td>22860000</td>\n",
       "      <td>18512640</td>\n",
       "      <td>0.393737</td>\n",
       "      <td>0.018393</td>\n",
       "      <td>1</td>\n",
       "      <td>0</td>\n",
       "      <td>0</td>\n",
       "      <td>0</td>\n",
       "      <td>0</td>\n",
       "      <td>-0.586110</td>\n",
       "      <td>...</td>\n",
       "      <td>0</td>\n",
       "      <td>1</td>\n",
       "      <td>0</td>\n",
       "      <td>1</td>\n",
       "      <td>0</td>\n",
       "      <td>1</td>\n",
       "      <td>0</td>\n",
       "      <td>1</td>\n",
       "      <td>0</td>\n",
       "      <td>0</td>\n",
       "    </tr>\n",
       "    <tr>\n",
       "      <th>1</th>\n",
       "      <td>23726880</td>\n",
       "      <td>27348480</td>\n",
       "      <td>-0.573401</td>\n",
       "      <td>-1.321096</td>\n",
       "      <td>0</td>\n",
       "      <td>0</td>\n",
       "      <td>0</td>\n",
       "      <td>0</td>\n",
       "      <td>0</td>\n",
       "      <td>-0.586110</td>\n",
       "      <td>...</td>\n",
       "      <td>0</td>\n",
       "      <td>1</td>\n",
       "      <td>0</td>\n",
       "      <td>1</td>\n",
       "      <td>0</td>\n",
       "      <td>1</td>\n",
       "      <td>0</td>\n",
       "      <td>1</td>\n",
       "      <td>0</td>\n",
       "      <td>0</td>\n",
       "    </tr>\n",
       "    <tr>\n",
       "      <th>2</th>\n",
       "      <td>22597920</td>\n",
       "      <td>17396640</td>\n",
       "      <td>0.458213</td>\n",
       "      <td>0.018393</td>\n",
       "      <td>1</td>\n",
       "      <td>0</td>\n",
       "      <td>0</td>\n",
       "      <td>0</td>\n",
       "      <td>0</td>\n",
       "      <td>-0.255045</td>\n",
       "      <td>...</td>\n",
       "      <td>0</td>\n",
       "      <td>1</td>\n",
       "      <td>0</td>\n",
       "      <td>1</td>\n",
       "      <td>0</td>\n",
       "      <td>1</td>\n",
       "      <td>0</td>\n",
       "      <td>1</td>\n",
       "      <td>0</td>\n",
       "      <td>0</td>\n",
       "    </tr>\n",
       "    <tr>\n",
       "      <th>3</th>\n",
       "      <td>24200640</td>\n",
       "      <td>29167200</td>\n",
       "      <td>-0.766829</td>\n",
       "      <td>-0.794868</td>\n",
       "      <td>0</td>\n",
       "      <td>0</td>\n",
       "      <td>0</td>\n",
       "      <td>0</td>\n",
       "      <td>0</td>\n",
       "      <td>-0.586110</td>\n",
       "      <td>...</td>\n",
       "      <td>0</td>\n",
       "      <td>0</td>\n",
       "      <td>1</td>\n",
       "      <td>1</td>\n",
       "      <td>0</td>\n",
       "      <td>0</td>\n",
       "      <td>1</td>\n",
       "      <td>0</td>\n",
       "      <td>1</td>\n",
       "      <td>0</td>\n",
       "    </tr>\n",
       "    <tr>\n",
       "      <th>4</th>\n",
       "      <td>23323680</td>\n",
       "      <td>36230400</td>\n",
       "      <td>-1.733967</td>\n",
       "      <td>0.783816</td>\n",
       "      <td>0</td>\n",
       "      <td>0</td>\n",
       "      <td>0</td>\n",
       "      <td>0</td>\n",
       "      <td>0</td>\n",
       "      <td>-0.586110</td>\n",
       "      <td>...</td>\n",
       "      <td>0</td>\n",
       "      <td>1</td>\n",
       "      <td>0</td>\n",
       "      <td>1</td>\n",
       "      <td>0</td>\n",
       "      <td>1</td>\n",
       "      <td>0</td>\n",
       "      <td>1</td>\n",
       "      <td>0</td>\n",
       "      <td>0</td>\n",
       "    </tr>\n",
       "    <tr>\n",
       "      <th>...</th>\n",
       "      <td>...</td>\n",
       "      <td>...</td>\n",
       "      <td>...</td>\n",
       "      <td>...</td>\n",
       "      <td>...</td>\n",
       "      <td>...</td>\n",
       "      <td>...</td>\n",
       "      <td>...</td>\n",
       "      <td>...</td>\n",
       "      <td>...</td>\n",
       "      <td>...</td>\n",
       "      <td>...</td>\n",
       "      <td>...</td>\n",
       "      <td>...</td>\n",
       "      <td>...</td>\n",
       "      <td>...</td>\n",
       "      <td>...</td>\n",
       "      <td>...</td>\n",
       "      <td>...</td>\n",
       "      <td>...</td>\n",
       "      <td>...</td>\n",
       "    </tr>\n",
       "    <tr>\n",
       "      <th>426</th>\n",
       "      <td>22183200</td>\n",
       "      <td>15276960</td>\n",
       "      <td>0.716116</td>\n",
       "      <td>-1.703808</td>\n",
       "      <td>1</td>\n",
       "      <td>0</td>\n",
       "      <td>0</td>\n",
       "      <td>1</td>\n",
       "      <td>0</td>\n",
       "      <td>-0.420577</td>\n",
       "      <td>...</td>\n",
       "      <td>0</td>\n",
       "      <td>1</td>\n",
       "      <td>0</td>\n",
       "      <td>1</td>\n",
       "      <td>0</td>\n",
       "      <td>0</td>\n",
       "      <td>1</td>\n",
       "      <td>0</td>\n",
       "      <td>1</td>\n",
       "      <td>0</td>\n",
       "    </tr>\n",
       "    <tr>\n",
       "      <th>427</th>\n",
       "      <td>21178080</td>\n",
       "      <td>21460320</td>\n",
       "      <td>-0.186546</td>\n",
       "      <td>0.496782</td>\n",
       "      <td>0</td>\n",
       "      <td>0</td>\n",
       "      <td>0</td>\n",
       "      <td>0</td>\n",
       "      <td>0</td>\n",
       "      <td>-0.453684</td>\n",
       "      <td>...</td>\n",
       "      <td>0</td>\n",
       "      <td>1</td>\n",
       "      <td>0</td>\n",
       "      <td>1</td>\n",
       "      <td>0</td>\n",
       "      <td>0</td>\n",
       "      <td>1</td>\n",
       "      <td>0</td>\n",
       "      <td>1</td>\n",
       "      <td>0</td>\n",
       "    </tr>\n",
       "    <tr>\n",
       "      <th>428</th>\n",
       "      <td>22527360</td>\n",
       "      <td>25336800</td>\n",
       "      <td>-0.508926</td>\n",
       "      <td>-0.412157</td>\n",
       "      <td>0</td>\n",
       "      <td>0</td>\n",
       "      <td>0</td>\n",
       "      <td>0</td>\n",
       "      <td>0</td>\n",
       "      <td>3.320454</td>\n",
       "      <td>...</td>\n",
       "      <td>0</td>\n",
       "      <td>1</td>\n",
       "      <td>0</td>\n",
       "      <td>1</td>\n",
       "      <td>0</td>\n",
       "      <td>1</td>\n",
       "      <td>0</td>\n",
       "      <td>0</td>\n",
       "      <td>1</td>\n",
       "      <td>0</td>\n",
       "    </tr>\n",
       "    <tr>\n",
       "      <th>429</th>\n",
       "      <td>20763360</td>\n",
       "      <td>31668480</td>\n",
       "      <td>-1.476064</td>\n",
       "      <td>0.640299</td>\n",
       "      <td>0</td>\n",
       "      <td>0</td>\n",
       "      <td>0</td>\n",
       "      <td>0</td>\n",
       "      <td>0</td>\n",
       "      <td>-0.486790</td>\n",
       "      <td>...</td>\n",
       "      <td>0</td>\n",
       "      <td>1</td>\n",
       "      <td>0</td>\n",
       "      <td>1</td>\n",
       "      <td>0</td>\n",
       "      <td>0</td>\n",
       "      <td>1</td>\n",
       "      <td>0</td>\n",
       "      <td>1</td>\n",
       "      <td>0</td>\n",
       "    </tr>\n",
       "    <tr>\n",
       "      <th>430</th>\n",
       "      <td>22517280</td>\n",
       "      <td>27845280</td>\n",
       "      <td>-0.831305</td>\n",
       "      <td>-1.081902</td>\n",
       "      <td>1</td>\n",
       "      <td>1</td>\n",
       "      <td>0</td>\n",
       "      <td>0</td>\n",
       "      <td>0</td>\n",
       "      <td>-0.397403</td>\n",
       "      <td>...</td>\n",
       "      <td>0</td>\n",
       "      <td>1</td>\n",
       "      <td>0</td>\n",
       "      <td>1</td>\n",
       "      <td>0</td>\n",
       "      <td>0</td>\n",
       "      <td>1</td>\n",
       "      <td>0</td>\n",
       "      <td>1</td>\n",
       "      <td>0</td>\n",
       "    </tr>\n",
       "  </tbody>\n",
       "</table>\n",
       "<p>431 rows × 69 columns</p>\n",
       "</div>"
      ],
      "text/plain": [
       "         DETT     DNAIS    AGEINC     SURFC  MUT01  MYBPC3  MYH7  TNNT2  \\\n",
       "0    22860000  18512640  0.393737  0.018393      1       0     0      0   \n",
       "1    23726880  27348480 -0.573401 -1.321096      0       0     0      0   \n",
       "2    22597920  17396640  0.458213  0.018393      1       0     0      0   \n",
       "3    24200640  29167200 -0.766829 -0.794868      0       0     0      0   \n",
       "4    23323680  36230400 -1.733967  0.783816      0       0     0      0   \n",
       "..        ...       ...       ...       ...    ...     ...   ...    ...   \n",
       "426  22183200  15276960  0.716116 -1.703808      1       0     0      1   \n",
       "427  21178080  21460320 -0.186546  0.496782      0       0     0      0   \n",
       "428  22527360  25336800 -0.508926 -0.412157      0       0     0      0   \n",
       "429  20763360  31668480 -1.476064  0.640299      0       0     0      0   \n",
       "430  22517280  27845280 -0.831305 -1.081902      1       1     0      0   \n",
       "\n",
       "     TNNI3  GRADIENTMAXREPOSINTRAVG  ...  RECOESC(4%)_0,non  \\\n",
       "0        0                -0.586110  ...                  0   \n",
       "1        0                -0.586110  ...                  0   \n",
       "2        0                -0.255045  ...                  0   \n",
       "3        0                -0.586110  ...                  0   \n",
       "4        0                -0.586110  ...                  0   \n",
       "..     ...                      ...  ...                ...   \n",
       "426      0                -0.420577  ...                  0   \n",
       "427      0                -0.453684  ...                  0   \n",
       "428      0                 3.320454  ...                  0   \n",
       "429      0                -0.486790  ...                  0   \n",
       "430      0                -0.397403  ...                  0   \n",
       "\n",
       "     RECOESC(4%)_0.non  RECOESC(4%)_1.oui  RECOESC6%_0.non  RECOESC6%_1.oui  \\\n",
       "0                    1                  0                1                0   \n",
       "1                    1                  0                1                0   \n",
       "2                    1                  0                1                0   \n",
       "3                    0                  1                1                0   \n",
       "4                    1                  0                1                0   \n",
       "..                 ...                ...              ...              ...   \n",
       "426                  1                  0                1                0   \n",
       "427                  1                  0                1                0   \n",
       "428                  1                  0                1                0   \n",
       "429                  1                  0                1                0   \n",
       "430                  1                  0                1                0   \n",
       "\n",
       "     RECOAHA_0.non  RECOAHA_1.oui  RECOAHAétendue_0.non  RECOAHAétendue_1.oui  \\\n",
       "0                1              0                     1                     0   \n",
       "1                1              0                     1                     0   \n",
       "2                1              0                     1                     0   \n",
       "3                0              1                     0                     1   \n",
       "4                1              0                     1                     0   \n",
       "..             ...            ...                   ...                   ...   \n",
       "426              0              1                     0                     1   \n",
       "427              0              1                     0                     1   \n",
       "428              1              0                     0                     1   \n",
       "429              0              1                     0                     1   \n",
       "430              0              1                     0                     1   \n",
       "\n",
       "     CJP  \n",
       "0      0  \n",
       "1      0  \n",
       "2      0  \n",
       "3      0  \n",
       "4      0  \n",
       "..   ...  \n",
       "426    0  \n",
       "427    0  \n",
       "428    0  \n",
       "429    0  \n",
       "430    0  \n",
       "\n",
       "[431 rows x 69 columns]"
      ]
     },
     "execution_count": 384,
     "metadata": {},
     "output_type": "execute_result"
    }
   ],
   "source": [
    "df=pd.read_csv(\"..\\preparationdedonnee\\X.csv\")\n",
    "df"
   ]
  },
  {
   "cell_type": "code",
   "execution_count": 385,
   "metadata": {},
   "outputs": [],
   "source": [
    "Y = df['CJP']\n",
    "X = df.drop('CJP',axis=1)"
   ]
  },
  {
   "attachments": {},
   "cell_type": "markdown",
   "metadata": {},
   "source": [
    "<h2>Jeux 1 :</H2>"
   ]
  },
  {
   "cell_type": "code",
   "execution_count": 386,
   "metadata": {},
   "outputs": [
    {
     "data": {
      "text/html": [
       "<div>\n",
       "<style scoped>\n",
       "    .dataframe tbody tr th:only-of-type {\n",
       "        vertical-align: middle;\n",
       "    }\n",
       "\n",
       "    .dataframe tbody tr th {\n",
       "        vertical-align: top;\n",
       "    }\n",
       "\n",
       "    .dataframe thead th {\n",
       "        text-align: right;\n",
       "    }\n",
       "</style>\n",
       "<table border=\"1\" class=\"dataframe\">\n",
       "  <thead>\n",
       "    <tr style=\"text-align: right;\">\n",
       "      <th></th>\n",
       "      <th>AGEINC</th>\n",
       "      <th>GRADIENTMAXREPOSINTRAVG</th>\n",
       "      <th>EPMAXETT</th>\n",
       "      <th>DOG</th>\n",
       "      <th>TVNS</th>\n",
       "      <th>SYNC</th>\n",
       "      <th>ANTEMS</th>\n",
       "    </tr>\n",
       "  </thead>\n",
       "  <tbody>\n",
       "    <tr>\n",
       "      <th>0</th>\n",
       "      <td>0.393737</td>\n",
       "      <td>-0.586110</td>\n",
       "      <td>-1.438222</td>\n",
       "      <td>-0.822560</td>\n",
       "      <td>0</td>\n",
       "      <td>0</td>\n",
       "      <td>0</td>\n",
       "    </tr>\n",
       "    <tr>\n",
       "      <th>1</th>\n",
       "      <td>-0.573401</td>\n",
       "      <td>-0.586110</td>\n",
       "      <td>-1.438222</td>\n",
       "      <td>-0.987750</td>\n",
       "      <td>0</td>\n",
       "      <td>0</td>\n",
       "      <td>0</td>\n",
       "    </tr>\n",
       "    <tr>\n",
       "      <th>2</th>\n",
       "      <td>0.458213</td>\n",
       "      <td>-0.255045</td>\n",
       "      <td>-1.229770</td>\n",
       "      <td>0.333771</td>\n",
       "      <td>0</td>\n",
       "      <td>0</td>\n",
       "      <td>0</td>\n",
       "    </tr>\n",
       "    <tr>\n",
       "      <th>3</th>\n",
       "      <td>-0.766829</td>\n",
       "      <td>-0.586110</td>\n",
       "      <td>1.688558</td>\n",
       "      <td>-0.860681</td>\n",
       "      <td>0</td>\n",
       "      <td>1</td>\n",
       "      <td>0</td>\n",
       "    </tr>\n",
       "    <tr>\n",
       "      <th>4</th>\n",
       "      <td>-1.733967</td>\n",
       "      <td>-0.586110</td>\n",
       "      <td>-1.646674</td>\n",
       "      <td>-0.949629</td>\n",
       "      <td>0</td>\n",
       "      <td>0</td>\n",
       "      <td>0</td>\n",
       "    </tr>\n",
       "  </tbody>\n",
       "</table>\n",
       "</div>"
      ],
      "text/plain": [
       "     AGEINC  GRADIENTMAXREPOSINTRAVG  EPMAXETT       DOG  TVNS  SYNC  ANTEMS\n",
       "0  0.393737                -0.586110 -1.438222 -0.822560     0     0       0\n",
       "1 -0.573401                -0.586110 -1.438222 -0.987750     0     0       0\n",
       "2  0.458213                -0.255045 -1.229770  0.333771     0     0       0\n",
       "3 -0.766829                -0.586110  1.688558 -0.860681     0     1       0\n",
       "4 -1.733967                -0.586110 -1.646674 -0.949629     0     0       0"
      ]
     },
     "execution_count": 386,
     "metadata": {},
     "output_type": "execute_result"
    }
   ],
   "source": [
    "col_europe=[\"AGEINC\",\"GRADIENTMAXREPOSINTRAVG\",\"EPMAXETT\",\"DOG\",\"TVNS\",\"SYNC\",\"ANTEMS\"]\n",
    "Xeurop=X[col_europe]\n",
    "Xeurop.head(5)"
   ]
  },
  {
   "cell_type": "code",
   "execution_count": 387,
   "metadata": {},
   "outputs": [],
   "source": [
    "from sklearn.model_selection import train_test_split\n",
    "x_train,x_test,y_train,y_test=train_test_split(Xeurop,Y,test_size=0.25,random_state=8)"
   ]
  },
  {
   "cell_type": "code",
   "execution_count": 388,
   "metadata": {},
   "outputs": [
    {
     "name": "stdout",
     "output_type": "stream",
     "text": [
      "0.8703703703703703\n"
     ]
    }
   ],
   "source": [
    "# Entraîner un modèle de régression logistique\n",
    "logistic1 = LogisticRegression(random_state=16)\n",
    "logistic1.fit(x_train, y_train)\n",
    "logistic_pred1 = logistic1.predict(x_test)\n",
    "logistic_acc1 = logistic1.score(x_test, y_test)\n",
    "print(logistic_acc1) "
   ]
  },
  {
   "cell_type": "code",
   "execution_count": 389,
   "metadata": {},
   "outputs": [
    {
     "name": "stdout",
     "output_type": "stream",
     "text": [
      "EQM :  0.12962962962962962\n"
     ]
    }
   ],
   "source": [
    "from sklearn.metrics import mean_squared_error\n",
    "eqm = mean_squared_error(y_test, logistic_pred1)\n",
    "print(\"EQM : \", eqm)"
   ]
  },
  {
   "cell_type": "code",
   "execution_count": 390,
   "metadata": {},
   "outputs": [
    {
     "name": "stdout",
     "output_type": "stream",
     "text": [
      "0.8611111111111112\n"
     ]
    }
   ],
   "source": [
    "# Entraîner un modèle de random forest\n",
    "rf1 = RandomForestClassifier(n_estimators=100, oob_score=True)\n",
    "rf1.fit(x_train, y_train)\n",
    "\n",
    "# Prédire les sorties pour les données de test\n",
    "rf_pred1 = rf1.predict(x_test)\n",
    "# Calculer les métriques pour chaque modèle\n",
    "rf_acc1 = accuracy_score(y_test, rf_pred1)\n",
    "#OOB erreur\n",
    "oob_error1 = 1 - rf1.oob_score_\n",
    "print(rf_acc1) "
   ]
  },
  {
   "attachments": {},
   "cell_type": "markdown",
   "metadata": {},
   "source": [
    "<h2>Jeux 2 :</H2>"
   ]
  },
  {
   "cell_type": "code",
   "execution_count": 391,
   "metadata": {},
   "outputs": [],
   "source": [
    "col_usa=[\"AGEINC\",\"GRADIENTMAXREPOSINTRAVG\",\"EPMAXETT\",\"DOG\",\"TVNS\",\"SYNC\",\"ANTEMS\",\"Simpsonbiplan(%)\",\"ANVR\",\"FIBROSEextensive_0.non\",'FIBROSEextensive_1.oui']\n",
    "Xusa=X[col_usa]\n"
   ]
  },
  {
   "cell_type": "code",
   "execution_count": 392,
   "metadata": {},
   "outputs": [],
   "source": [
    "from sklearn.model_selection import train_test_split\n",
    "x_train2,x_test2,y_train2,y_test2=train_test_split(Xusa,Y,test_size=0.25)"
   ]
  },
  {
   "cell_type": "code",
   "execution_count": 393,
   "metadata": {},
   "outputs": [
    {
     "name": "stdout",
     "output_type": "stream",
     "text": [
      "0.8981481481481481\n"
     ]
    }
   ],
   "source": [
    "# Entraîner un modèle de régression logistique\n",
    "logistic2 = LogisticRegression()\n",
    "logistic2.fit(x_train2, y_train2)\n",
    "logistic_pred2 = logistic2.predict(x_test2)\n",
    "logistic_acc2 = accuracy_score(y_test2, logistic_pred2)\n",
    "print(logistic_acc2)"
   ]
  },
  {
   "cell_type": "code",
   "execution_count": 394,
   "metadata": {},
   "outputs": [
    {
     "name": "stdout",
     "output_type": "stream",
     "text": [
      "0.8888888888888888\n"
     ]
    }
   ],
   "source": [
    "# Entraîner un modèle de random forest\n",
    "rf2 = RandomForestClassifier(n_estimators=100, oob_score=True)\n",
    "rf2.fit(x_train2, y_train2)\n",
    "\n",
    "# Prédire les sorties pour les données de test\n",
    "\n",
    "rf_pred2 = rf2.predict(x_test2)\n",
    "\n",
    "# Calculer les métriques pour chaque modèle\n",
    "\n",
    "rf_acc2 = accuracy_score(y_test2, rf_pred2)\n",
    "\n",
    "#OOB erreur\n",
    "oob_error2 = 1 - rf2.oob_score_\n",
    "print(rf_acc2)"
   ]
  },
  {
   "attachments": {},
   "cell_type": "markdown",
   "metadata": {},
   "source": [
    "<h2>Jeux 3 :</H2> \n",
    "['CJP',\n",
    " 'LASRa4C',\n",
    " 'LASRs4C',\n",
    " 'DATEDERNIIERENOUVELLES',\n",
    " 'PALS4C',\n",
    " 'DNAIS',\n",
    " 'Simpsonbiplan(%)',\n",
    " 'DETT',\n",
    " 'suivi',\n",
    " 'PACS4C',\n",
    " 'LASRe4C',\n",
    " 'AGEINC',\n",
    " 'GLSVG',\n",
    " 'SURFC',\n",
    " 'TPCS4C',\n",
    " 'VOG',\n",
    " 'EPMAXETT',\n",
    " 'TPLS4C',"
   ]
  },
  {
   "cell_type": "code",
   "execution_count": 395,
   "metadata": {},
   "outputs": [],
   "source": [
    "listjeux3=[\"PALS2C\",\"LASRa2C\",\"TPCS4C\",\"SURFC\",\"FEVG\",\"TPLS2C\",\"PACS4C\",'TPLS4C',\"LASRe4C\",\"LASRs2C\",'AGEINC']\n",
    "X_3j=X[listjeux3]"
   ]
  },
  {
   "cell_type": "code",
   "execution_count": 396,
   "metadata": {},
   "outputs": [],
   "source": [
    "from sklearn.model_selection import train_test_split\n",
    "x_train3,x_test3,y_train3,y_test3=train_test_split(X_3j,Y,test_size=0.25)"
   ]
  },
  {
   "cell_type": "code",
   "execution_count": 397,
   "metadata": {},
   "outputs": [
    {
     "name": "stdout",
     "output_type": "stream",
     "text": [
      "0.9259259259259259\n"
     ]
    }
   ],
   "source": [
    "# Entraîner un modèle de régression logistique\n",
    "logistic3 = LogisticRegression()\n",
    "logistic3.fit(x_train3, y_train3)\n",
    "logistic_pred3 = logistic3.predict(x_test3)\n",
    "logistic_acc3 = logistic3.score(x_test3,y_test3)\n",
    "print(logistic_acc3)"
   ]
  },
  {
   "cell_type": "code",
   "execution_count": 398,
   "metadata": {},
   "outputs": [
    {
     "name": "stdout",
     "output_type": "stream",
     "text": [
      "0.9166666666666666\n"
     ]
    }
   ],
   "source": [
    "# Entraîner un modèle de random forest\n",
    "rf3 = RandomForestClassifier(n_estimators=100, oob_score=True)\n",
    "rf3.fit(x_train3, y_train3)\n",
    "\n",
    "# Prédire les sorties pour les données de test\n",
    "\n",
    "rf_pred3 = rf3.predict(x_test3)\n",
    "\n",
    "# Calculer les métriques pour chaque modèle\n",
    "rf_acc3 = accuracy_score(y_test3, rf_pred3)\n",
    "\n",
    "#OOB erreur\n",
    "oob_error3 = 1 - rf3.oob_score_\n",
    "print(rf_acc3)"
   ]
  },
  {
   "attachments": {},
   "cell_type": "markdown",
   "metadata": {},
   "source": [
    "<h2>Jeux 4 :</H2> variables à considérer PACS 4C, Simpson biplan (%), Syncope et TVNS."
   ]
  },
  {
   "cell_type": "code",
   "execution_count": 399,
   "metadata": {},
   "outputs": [],
   "source": [
    "listjeux4=[\"PACS4C\",\"Simpsonbiplan(%)\",\"SYNC\",\"TVNS\"]\n",
    "X_4j=X[listjeux4]"
   ]
  },
  {
   "cell_type": "code",
   "execution_count": 400,
   "metadata": {},
   "outputs": [],
   "source": [
    "from sklearn.model_selection import train_test_split\n",
    "x_train4,x_test4,y_train4,y_test4=train_test_split(X_4j,Y,test_size=0.25)"
   ]
  },
  {
   "cell_type": "code",
   "execution_count": 401,
   "metadata": {},
   "outputs": [
    {
     "name": "stdout",
     "output_type": "stream",
     "text": [
      "0.8518518518518519\n"
     ]
    }
   ],
   "source": [
    "# Entraîner un modèle de régression logistique\n",
    "logistic4 = LogisticRegression()\n",
    "logistic4.fit(x_train4, y_train4)\n",
    "logistic_pred4 = logistic4.predict(x_test4)\n",
    "logistic_acc4 = logistic4.score(x_test4,y_test4)\n",
    "print(logistic_acc4)"
   ]
  },
  {
   "cell_type": "code",
   "execution_count": 402,
   "metadata": {},
   "outputs": [
    {
     "name": "stdout",
     "output_type": "stream",
     "text": [
      "0.8425925925925926\n"
     ]
    }
   ],
   "source": [
    "# Entraîner un modèle de random forest\n",
    "rf4 = RandomForestClassifier(n_estimators=100, oob_score=True)\n",
    "rf4.fit(x_train4, y_train4)\n",
    "# Prédire les sorties pour les données de test\n",
    "rf_pred4 = rf4.predict(x_test4)\n",
    "# Calculer les métriques pour chaque modèle\n",
    "rf_acc4 = rf4.score(x_test4,y_test4)\n",
    "#OOB erreur\n",
    "oob_error4 = 1 - rf4.oob_score_\n",
    "print(rf_acc4)"
   ]
  },
  {
   "cell_type": "code",
   "execution_count": 403,
   "metadata": {},
   "outputs": [
    {
     "name": "stdout",
     "output_type": "stream",
     "text": [
      "Modèle       | J1       | J2       | J3         | J4      \n",
      "Logistic     | 0.8704   | 0.8981   | 0.9259     | 0.8519  \n",
      "RandomForest | 0.8611   | 0.8889   | 0.9167     | 0.8426  \n"
     ]
    }
   ],
   "source": [
    "# Afficher les résultats dans un tableau\n",
    "print(\"Modèle       | J1       | J2       | J3         | J4      \")\n",
    "print(\"Logistic     | {:.4f}   | {:.4f}   | {:.4f}     | {:.4f}  \".format(logistic_acc1, logistic_acc2, logistic_acc3, logistic_acc4))\n",
    "print(\"RandomForest | {:.4f}   | {:.4f}   | {:.4f}     | {:.4f}  \".format(rf_acc1,rf_acc2, rf_acc3, rf_acc4))\n"
   ]
  },
  {
   "cell_type": "code",
   "execution_count": 404,
   "metadata": {},
   "outputs": [
    {
     "name": "stdout",
     "output_type": "stream",
     "text": [
      "RandomForest | J1       | J2       | J3         | J4      \n",
      "accuracy     | 0.8611   | 0.8889   | 0.9167     | 0.8426  \n",
      "l'erreur     | 0.1207   | 0.1362   | 0.1455     | 0.1393  \n"
     ]
    }
   ],
   "source": [
    "# Afficher les résultats (RandomForest)\n",
    "print(\"RandomForest | J1       | J2       | J3         | J4      \")\n",
    "print(\"accuracy     | {:.4f}   | {:.4f}   | {:.4f}     | {:.4f}  \".format(rf_acc1,rf_acc2, rf_acc3, rf_acc4))\n",
    "print(\"l'erreur     | {:.4f}   | {:.4f}   | {:.4f}     | {:.4f}  \".format(oob_error1,oob_error2,oob_error3,oob_error4))\n"
   ]
  }
 ],
 "metadata": {
  "kernelspec": {
   "display_name": "Python 3",
   "language": "python",
   "name": "python3"
  },
  "language_info": {
   "codemirror_mode": {
    "name": "ipython",
    "version": 3
   },
   "file_extension": ".py",
   "mimetype": "text/x-python",
   "name": "python",
   "nbconvert_exporter": "python",
   "pygments_lexer": "ipython3",
   "version": "3.9.16"
  },
  "orig_nbformat": 4,
  "vscode": {
   "interpreter": {
    "hash": "f9d6a07b04b7c658f452889ebe4f228ba97abc448f54e7ebdb21c065c074371a"
   }
  }
 },
 "nbformat": 4,
 "nbformat_minor": 2
}
